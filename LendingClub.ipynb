{
  "nbformat": 4,
  "nbformat_minor": 0,
  "metadata": {
    "colab": {
      "name": "Copy of Homework_1_Yixin_Jin.ipynb",
      "provenance": [],
      "collapsed_sections": []
    },
    "kernelspec": {
      "display_name": "Python 3",
      "language": "python",
      "name": "python3"
    },
    "language_info": {
      "codemirror_mode": {
        "name": "ipython",
        "version": 3
      },
      "file_extension": ".py",
      "mimetype": "text/x-python",
      "name": "python",
      "nbconvert_exporter": "python",
      "pygments_lexer": "ipython3",
      "version": "3.7.4"
    },
    "varInspector": {
      "cols": {
        "lenName": 16,
        "lenType": 16,
        "lenVar": 40
      },
      "kernels_config": {
        "python": {
          "delete_cmd_postfix": "",
          "delete_cmd_prefix": "del ",
          "library": "var_list.py",
          "varRefreshCmd": "print(var_dic_list())"
        },
        "r": {
          "delete_cmd_postfix": ") ",
          "delete_cmd_prefix": "rm(",
          "library": "var_list.r",
          "varRefreshCmd": "cat(var_dic_list()) "
        }
      },
      "position": {
        "height": "561.375px",
        "left": "1518.13px",
        "right": "20px",
        "top": "60px",
        "width": "264.844px"
      },
      "types_to_exclude": [
        "module",
        "function",
        "builtin_function_or_method",
        "instance",
        "_Feature"
      ],
      "window_display": true
    }
  },
  "cells": [
    {
      "cell_type": "markdown",
      "metadata": {
        "colab_type": "text",
        "id": "b303czQnwtqs"
      },
      "source": [
        "# LendingClub Exploration\n",
        "On Canvas (or in this notebook's files) you’ll find a new file, **lendingclub.csv**. Each row of **lendingclub.csv** represents a single user\n",
        "account on **LendingClub.com**. The site consists of two types of users, **borrowers** who are applying for a new loan, and **investors** who lend money for fixed periods of time. Each row in our dataset represents a single borrower at the time they apply for their first peer-to-peer loan, and each row contains nine columns:\n",
        "\n",
        "- Amount requested for their first loan\n",
        "- Year the loan was requested (this dataset covers only a five-year period, 2008-2012)\n",
        "- Title of the loan application (written by the borrower)\n",
        "- FICO score (credit rating) of the borrower\n",
        "- “Debt-to-Income”: A ratio of the borrower’s total monthly debt payments, excluding home\n",
        "mortgage and the requested loan, to the borrower’s self-reported monthly income.\n",
        "- ZIP code of the borrower (the last two digits of each ZIP are masked for anonymity)\n",
        "- U.S. state that the borrower resides in.\n",
        "- Length of time that the borrower has been employed at their current job, from 0 to 10+ years.\n",
        "- A binary outcome variable for whether the user’s loan application was accepted by investors.\n",
        "\n",
        "Our goal with this project will be to automatically predict whether a borrower will be approved for a loan from the investor members of the website, based only on the data provided above. For each of the following questions, add a series of code and markdown cells to develop an easily readable report responding to the question. "
      ]
    },
    {
      "cell_type": "markdown",
      "metadata": {
        "colab_type": "text",
        "id": "783C7f61yxMT"
      },
      "source": [
        "# Question 1:\n",
        "- Why is this data about users valuable to LendingClub?\n",
        "- Name at least two different ways this automated prediction could be used either for in-app product changes, or business decision-making."
      ]
    },
    {
      "cell_type": "markdown",
      "metadata": {
        "id": "0To5Db9b0Mra",
        "colab_type": "text"
      },
      "source": [
        "# Answer 1:\n",
        "\n",
        "\n",
        "The User data can be a bridge for LendingClub to **higher revenues**, through generating more matching transactions and attracting more users.\n",
        "According to the company, the revenue sources can be categorized as followed:\n",
        "1. transaction fees from our platform's role in matching borrowers with investors to enable loan originations;\n",
        "2. servicing fees from investors;\n",
        "3. management fees for investment funds and other managed accounts. \n",
        "\n",
        "Therefore, the higher matching transaction rates and more higher traffic on the platform will enable higher revenues for LendingClub. The user data and the machine learning algorithm based on the data make it possible for the company to more efficiently match a borrower with the investors with higher willingness to lend the money. However, in the case that we only have the borrower data, we can only deliver the common features of the welcomed borrowers for the lender users in general, rather than directly helping the borrowers match the lender users to efficiently meet their loan needs. \n",
        "Based on the valuable borrower data and the prediction algorithm, we can make recommendations for LendingClub in the following scenarios:\n",
        "1. Send more push notifications and in-app messages to the existing customers who are predicted to be accepted users to remind them of the needs to purchase or directly request the loan.\n",
        "2. Categorize the features of the borrowers who are more 'welcomed' by the investoer members on the website, and attract these potential users with specific targeting market strategy like advertisements, discounts on fees, etc. \n",
        "\n",
        "While more deals can be concluded on the platform, there can be more revenues generated from the previously mentioned three ways.\n",
        "\n"
      ]
    },
    {
      "cell_type": "markdown",
      "metadata": {
        "colab_type": "text",
        "id": "8jV6x5r_y5CB"
      },
      "source": [
        "# Question 2: \n",
        "Train a decision tree classifier to predict loan acceptance based on the features provided. Write a report giving at minimum the following information on your model:\n",
        "- Class distribution of the outcome labels.\n",
        "- List of features you used from the data, including their name and data type (numeric or\n",
        "nominal). For each feature, provide min, mean, and max values (if the feature is numeric) or\n",
        "list all possible labels (if the feature is nominal).\n",
        "- List of hyperparameter settings for the decision tree.\n",
        "- Performance of the trained classifier, using metrics like accuracy, kappa, precision, and recall. You must provide a labeled confusion matrix.\n",
        "\n",
        "You should NOT perform any optimization; all you need to do is train a single decision tree and report results. You will be tuning hyperparameters and performing other evaluations in Homework 2."
      ]
    },
    {
      "cell_type": "markdown",
      "metadata": {
        "colab_type": "text",
        "id": "mE5BpdlkUA0d"
      },
      "source": [
        "## 1. Data Preprocessing\n",
        "### 1.1. Package and Dataset Import"
      ]
    },
    {
      "cell_type": "code",
      "metadata": {
        "colab_type": "code",
        "id": "bVw25_gkAtIU",
        "outputId": "362ce043-b702-4d69-c231-498c10eb4aa4",
        "colab": {
          "base_uri": "https://localhost:8080/",
          "height": 70
        }
      },
      "source": [
        "import pandas as pd\n",
        "import numpy as np\n",
        "import matplotlib.pyplot as plt\n",
        "import seaborn.apionly as sns\n",
        "from sklearn.model_selection import train_test_split\n",
        "from sklearn.tree import DecisionTreeClassifier\n",
        "from sklearn.metrics import accuracy_score, precision_score, recall_score, cohen_kappa_score, confusion_matrix, ConfusionMatrixDisplay"
      ],
      "execution_count": 0,
      "outputs": [
        {
          "output_type": "stream",
          "text": [
            "/usr/local/lib/python3.6/dist-packages/seaborn/apionly.py:9: UserWarning: As seaborn no longer sets a default style on import, the seaborn.apionly module is deprecated. It will be removed in a future version.\n",
            "  warnings.warn(msg, UserWarning)\n"
          ],
          "name": "stderr"
        }
      ]
    },
    {
      "cell_type": "code",
      "metadata": {
        "id": "UT2wAPLswcXw",
        "colab_type": "code",
        "outputId": "19463568-d097-4cfb-d661-0b86049064a7",
        "colab": {
          "base_uri": "https://localhost:8080/",
          "height": 339
        }
      },
      "source": [
        "# Download dataset\n",
        "!wget --no-check-certificate 'https://docs.google.com/uc?export=download&id=0B5qTk6DHjanhOV9LRE5DY3l1T2pGemVBNTVQVzVsMlFCcHF3' -O lendingclub.csv\n",
        "https://docs.google.com/spreadsheets/d/e/2PACX-1vRfV218SmMXHvnmCUMHA21PWFWC-lRk8VFgEbxHlqPjtwLRKGvVDQsdMFWc16jyq5D1JZoibnm6REh3/pub?output=csv"
      ],
      "execution_count": 0,
      "outputs": [
        {
          "output_type": "stream",
          "text": [
            "--2020-02-03 19:42:44--  https://docs.google.com/uc?export=download&id=0B5qTk6DHjanhOV9LRE5DY3l1T2pGemVBNTVQVzVsMlFCcHF3\n",
            "Resolving docs.google.com (docs.google.com)... 172.217.204.100, 172.217.204.113, 172.217.204.102, ...\n",
            "Connecting to docs.google.com (docs.google.com)|172.217.204.100|:443... connected.\n",
            "HTTP request sent, awaiting response... 302 Moved Temporarily\n",
            "Location: https://doc-10-5c-docs.googleusercontent.com/docs/securesc/ha0ro937gcuc7l7deffksulhg5h7mbp1/g2ofbk51itvl9udbd0a55cc28rr6omn9/1580752800000/09819396713149841370/*/0B5qTk6DHjanhOV9LRE5DY3l1T2pGemVBNTVQVzVsMlFCcHF3?e=download [following]\n",
            "Warning: wildcards not supported in HTTP.\n",
            "--2020-02-03 19:42:45--  https://doc-10-5c-docs.googleusercontent.com/docs/securesc/ha0ro937gcuc7l7deffksulhg5h7mbp1/g2ofbk51itvl9udbd0a55cc28rr6omn9/1580752800000/09819396713149841370/*/0B5qTk6DHjanhOV9LRE5DY3l1T2pGemVBNTVQVzVsMlFCcHF3?e=download\n",
            "Resolving doc-10-5c-docs.googleusercontent.com (doc-10-5c-docs.googleusercontent.com)... 74.125.31.132, 2607:f8b0:400c:c02::84\n",
            "Connecting to doc-10-5c-docs.googleusercontent.com (doc-10-5c-docs.googleusercontent.com)|74.125.31.132|:443... connected.\n",
            "HTTP request sent, awaiting response... 200 OK\n",
            "Length: unspecified [text/csv]\n",
            "Saving to: ‘lendingclub.csv’\n",
            "\n",
            "lendingclub.csv         [ <=>                ]   6.03M  --.-KB/s    in 0.07s   \n",
            "\n",
            "2020-02-03 19:42:45 (92.0 MB/s) - ‘lendingclub.csv’ saved [6325329]\n",
            "\n"
          ],
          "name": "stdout"
        }
      ]
    },
    {
      "cell_type": "code",
      "metadata": {
        "colab_type": "code",
        "id": "jDYk9bsQApTx",
        "outputId": "00154256-4d46-461c-cff8-af57ce996fd6",
        "scrolled": false,
        "colab": {
          "base_uri": "https://localhost:8080/",
          "height": 550
        }
      },
      "source": [
        "lendingclub_raw = pd.read_csv('lendingclub.csv')\n",
        "print(f'Shape of the DataFrame of borrowers:{lendingclub_raw.shape}')\n",
        "print('\\nHead of the DataFrame of borrowers:')\n",
        "print(lendingclub_raw.head())\n",
        "print('\\nInformation of the DataFrame of borrowers:')\n",
        "print(lendingclub_raw.info())"
      ],
      "execution_count": 0,
      "outputs": [
        {
          "output_type": "stream",
          "text": [
            "Shape of the DataFrame of borrowers:(81103, 11)\n",
            "\n",
            "Head of the DataFrame of borrowers:\n",
            "    amount      date                    title  ...  policy_code  year outcome\n",
            "0   2500.0  Dec-2011                     bike  ...          1.0  2011  accept\n",
            "1  12000.0  Dec-2011            Consolidation  ...          1.0  2011  accept\n",
            "2  21000.0  Dec-2011             Debt Cleanup  ...          1.0  2011  accept\n",
            "3  31825.0  Dec-2011  Debt Consolidation Loan  ...          1.0  2011  accept\n",
            "4  12000.0  Dec-2011       Debt Consolidation  ...          1.0  2011  accept\n",
            "\n",
            "[5 rows x 11 columns]\n",
            "\n",
            "Information of the DataFrame of borrowers:\n",
            "<class 'pandas.core.frame.DataFrame'>\n",
            "RangeIndex: 81103 entries, 0 to 81102\n",
            "Data columns (total 11 columns):\n",
            "amount         81103 non-null float64\n",
            "date           81103 non-null object\n",
            "title          81103 non-null object\n",
            "fico           81103 non-null float64\n",
            "dti            81103 non-null float64\n",
            "zip            81103 non-null object\n",
            "state          81103 non-null object\n",
            "emp_length     81103 non-null object\n",
            "policy_code    81103 non-null float64\n",
            "year           81103 non-null int64\n",
            "outcome        81103 non-null object\n",
            "dtypes: float64(4), int64(1), object(6)\n",
            "memory usage: 6.8+ MB\n",
            "None\n"
          ],
          "name": "stdout"
        }
      ]
    },
    {
      "cell_type": "markdown",
      "metadata": {
        "id": "JEauX_oy0Mro",
        "colab_type": "text"
      },
      "source": [
        "### 1.2. Data Cleaning and Normalization\n",
        "Among the 81,103 borrowers' information, there is no missing value. Among the 11 variables, there are 6 variables in the format of object. For the three variables of `date`, `title`, `emp_length`, and `outcome`, I will convert them into the numeric information. For the two location variables of `zip` and `state`, I will directly drop them for our analysis since the peer-to-peer loan is an online business."
      ]
    },
    {
      "cell_type": "code",
      "metadata": {
        "id": "_4gQwSy_0Mrq",
        "colab_type": "code",
        "outputId": "62ee2fa9-de0e-4a38-84a1-800551ca1719",
        "colab": {
          "base_uri": "https://localhost:8080/",
          "height": 232
        }
      },
      "source": [
        "# Generate a copy of DataFrame for cleaning\n",
        "lendingclub_cl = lendingclub_raw.copy()\n",
        "\n",
        "# Clean the date column\n",
        "# Extract the month information from the column\n",
        "lendingclub_cl['month'] = pd.to_datetime(lendingclub_cl['date']).dt.month\n",
        "\n",
        "# Clean the title column\n",
        "# Extract the word number of titles\n",
        "lendingclub_cl['title_length'] = lendingclub_cl['title'].str.len()\n",
        "\n",
        "# Clean the outcome column\n",
        "# Convert the String into Boolean variable\n",
        "# The cleaned variable is also the prediction variable\n",
        "lendingclub_cl['accept'] = lendingclub_cl['outcome'].apply(lambda x: True if x== 'accept' else False)"
      ],
      "execution_count": 0,
      "outputs": [
        {
          "output_type": "error",
          "ename": "NameError",
          "evalue": "ignored",
          "traceback": [
            "\u001b[0;31m---------------------------------------------------------------------------\u001b[0m",
            "\u001b[0;31mNameError\u001b[0m                                 Traceback (most recent call last)",
            "\u001b[0;32m<ipython-input-1-eac42986d048>\u001b[0m in \u001b[0;36m<module>\u001b[0;34m()\u001b[0m\n\u001b[0;32m----> 1\u001b[0;31m \u001b[0mlendingclub_cl\u001b[0m \u001b[0;34m=\u001b[0m \u001b[0mlendingclub_raw\u001b[0m\u001b[0;34m.\u001b[0m\u001b[0mcopy\u001b[0m\u001b[0;34m(\u001b[0m\u001b[0;34m)\u001b[0m\u001b[0;34m\u001b[0m\u001b[0;34m\u001b[0m\u001b[0m\n\u001b[0m\u001b[1;32m      2\u001b[0m \u001b[0;34m\u001b[0m\u001b[0m\n\u001b[1;32m      3\u001b[0m \u001b[0;31m# Clean the date column\u001b[0m\u001b[0;34m\u001b[0m\u001b[0;34m\u001b[0m\u001b[0;34m\u001b[0m\u001b[0m\n\u001b[1;32m      4\u001b[0m \u001b[0;31m# Extract the month information from the column\u001b[0m\u001b[0;34m\u001b[0m\u001b[0;34m\u001b[0m\u001b[0;34m\u001b[0m\u001b[0m\n\u001b[1;32m      5\u001b[0m \u001b[0mlendingclub_cl\u001b[0m\u001b[0;34m[\u001b[0m\u001b[0;34m'month'\u001b[0m\u001b[0;34m]\u001b[0m \u001b[0;34m=\u001b[0m \u001b[0mpd\u001b[0m\u001b[0;34m.\u001b[0m\u001b[0mto_datetime\u001b[0m\u001b[0;34m(\u001b[0m\u001b[0mlendingclub_cl\u001b[0m\u001b[0;34m[\u001b[0m\u001b[0;34m'date'\u001b[0m\u001b[0;34m]\u001b[0m\u001b[0;34m)\u001b[0m\u001b[0;34m.\u001b[0m\u001b[0mdt\u001b[0m\u001b[0;34m.\u001b[0m\u001b[0mmonth\u001b[0m\u001b[0;34m\u001b[0m\u001b[0;34m\u001b[0m\u001b[0m\n",
            "\u001b[0;31mNameError\u001b[0m: name 'lendingclub_raw' is not defined"
          ]
        }
      ]
    },
    {
      "cell_type": "code",
      "metadata": {
        "id": "iy9GY-AJ0Mrv",
        "colab_type": "code",
        "colab": {}
      },
      "source": [
        "# Define a function to convert the string of employment year into the numeric format\n",
        "def emp_length_string_to_num(str):\n",
        "    length_dict={'< 1 year':0.5, '1 year':1, '2 years':2, '3 years':3, '4 years':4, '5 years':5, '6 years':6, '7 years':7, '8 years':8, '9 years':9, '10+ years':10.5}\n",
        "    for length_name, length in length_dict.items():\n",
        "        if str==length_name:\n",
        "            return length\n",
        "\n",
        "# Apply the function to the emp_length column\n",
        "lendingclub_cl['emp_years'] = lendingclub_cl.emp_length.apply(emp_length_string_to_num)"
      ],
      "execution_count": 0,
      "outputs": []
    },
    {
      "cell_type": "code",
      "metadata": {
        "id": "ADWZSx6v0Mr1",
        "colab_type": "code",
        "outputId": "91dbaf53-eb2a-4432-836a-8b4105356195",
        "colab": {
          "base_uri": "https://localhost:8080/",
          "height": 301
        }
      },
      "source": [
        "# Drop the three original variables and the location variables\n",
        "lendingclub_cl = lendingclub_cl.drop(['date','title','outcome','emp_length','zip','state'],axis=1,inplace=False)\n",
        "\n",
        "print('Information of the DataFrame of borrowers:')\n",
        "print(lendingclub_cl.info())"
      ],
      "execution_count": 0,
      "outputs": [
        {
          "output_type": "stream",
          "text": [
            "Information of the DataFrame of borrowers:\n",
            "<class 'pandas.core.frame.DataFrame'>\n",
            "RangeIndex: 81103 entries, 0 to 81102\n",
            "Data columns (total 9 columns):\n",
            "amount          81103 non-null float64\n",
            "fico            81103 non-null float64\n",
            "dti             81103 non-null float64\n",
            "policy_code     81103 non-null float64\n",
            "year            81103 non-null int64\n",
            "month           81103 non-null int64\n",
            "title_length    81103 non-null int64\n",
            "accept          81103 non-null bool\n",
            "emp_years       81103 non-null float64\n",
            "dtypes: bool(1), float64(5), int64(3)\n",
            "memory usage: 5.0 MB\n",
            "None\n"
          ],
          "name": "stdout"
        }
      ]
    },
    {
      "cell_type": "markdown",
      "metadata": {
        "id": "bHXNEIE60Mr5",
        "colab_type": "text"
      },
      "source": [
        "## 2. Exploratory Data Analysis\n",
        "### 2.1. Correlation Analysis"
      ]
    },
    {
      "cell_type": "code",
      "metadata": {
        "id": "yhgGF8n80Mr6",
        "colab_type": "code",
        "outputId": "90246714-13ec-483e-8187-80d085e260be",
        "colab": {
          "base_uri": "https://localhost:8080/",
          "height": 760
        }
      },
      "source": [
        "corr_abs = lendingclub_cl.corr().abs()\n",
        "\n",
        "# Plot correlation with selected quantitative columns\n",
        "fig, ax = plt.subplots(figsize=(10, 10))\n",
        "ax = sns.heatmap(corr_abs, square=True, annot=True, fmt='.2g')\n",
        "bottom, top = ax.get_ylim()\n",
        "ax.set_ylim(bottom + 0.5, top - 0.5)\n",
        "ax.set_title('Correlation Matrix of Quantitative Variables in Absolute Values')\n",
        "ax.set_xticklabels(ax.get_xticklabels(), rotation=30)\n",
        "# plt.savefig('Correlation_Matrix.png')"
      ],
      "execution_count": 0,
      "outputs": [
        {
          "output_type": "execute_result",
          "data": {
            "text/plain": [
              "[Text(0.5, 0, 'amount'),\n",
              " Text(1.5, 0, 'fico'),\n",
              " Text(2.5, 0, 'dti'),\n",
              " Text(3.5, 0, 'policy_code'),\n",
              " Text(4.5, 0, 'year'),\n",
              " Text(5.5, 0, 'month'),\n",
              " Text(6.5, 0, 'title_length'),\n",
              " Text(7.5, 0, 'accept'),\n",
              " Text(8.5, 0, 'emp_years')]"
            ]
          },
          "metadata": {
            "tags": []
          },
          "execution_count": 8
        },
        {
          "output_type": "display_data",
          "data": {
            "image/png": "[encoded data removed]",
            "text/plain": [
              "<Figure size 720x720 with 2 Axes>"
            ]
          },
          "metadata": {
            "tags": []
          }
        }
      ]
    },
    {
      "cell_type": "markdown",
      "metadata": {
        "id": "qErRt9J30Mr-",
        "colab_type": "text"
      },
      "source": [
        "#### Some observations:\n",
        "The correlation matrix is of mostly dark colors, indicating that these variables are of overall low correlation. Variables of `fico` and `emp_years` are of relatively higher correlation with `accept`, Especially, the `policy_code` is completely equivalent to our target variable, which should be dropped from our analysis. The variables of `fic0`, `policy_code`, `accept`, and `emp_years` are related to other variables at the relatively higher levels.\n",
        "\n",
        "Then, the more specific correlation exploration focusing on the target variable should be introduced.\n",
        "\n",
        "## 2.2. Correlation between target variables and  feature variables"
      ]
    },
    {
      "cell_type": "code",
      "metadata": {
        "scrolled": true,
        "id": "cJ54tG2q0Mr_",
        "colab_type": "code",
        "outputId": "77677aa0-b38e-4f80-95cb-9ab5c371948e",
        "colab": {
          "base_uri": "https://localhost:8080/",
          "height": 401
        }
      },
      "source": [
        "# Calculate the correlation between feature variables and the target varaible\n",
        "corr = lendingclub_cl.corr()\n",
        "corr_accept = corr.loc[corr['accept']!=1, 'accept'].sort_values(ascending = False)\n",
        "\n",
        "# Use bar chart to visualize the correlation\n",
        "plt.figure(figsize=(5,6))\n",
        "sns.set(style=\"whitegrid\")\n",
        "sns.light_palette(\"navy\", reverse=True)\n",
        "ax = sns.barplot(y=corr_accept.index, \n",
        "                 x=corr_accept.astype(np.float))\n",
        "y = 0\n",
        "for index, value in corr_accept.iteritems():\n",
        "    ax.text(0, y, round(float(value),4), color='black',va='center')\n",
        "    y+=1\n",
        "ax.set_xlim(-0.05,0.5)\n",
        "plt.xticks(rotation=90)\n",
        "plt.grid(False)\n",
        "#plt.savefig('corr_accept.png', bbox_inches='tight')"
      ],
      "execution_count": 0,
      "outputs": [
        {
          "output_type": "display_data",
          "data": {
            "image/png": "[encoded data removed]",
            "text/plain": [
              "<Figure size 360x432 with 1 Axes>"
            ]
          },
          "metadata": {
            "tags": []
          }
        }
      ]
    },
    {
      "cell_type": "markdown",
      "metadata": {
        "id": "rl9u11Au0MsD",
        "colab_type": "text"
      },
      "source": [
        "#### Some observations:\n",
        "1. It's reasonable that `emp_yeas` is highly related to target variables, because people with more years of work experience tend to have more stable income, which is an important indicator that he/she is capable of paying the money back on time.\n",
        "2. It's also reasonable that `fico` ranks high in the correlation table, since FICO scores are reliable creditworthiness indicators based on a person's credit history.\n",
        "3. It makes sense that `title_length` is positively correlated with request outcomes, since the word number of the title can be an indicator of the application attitudes of the borrowers. Those who are more attentive to the loan application, will fill the application form out more carefully. Therefore, their loan request are more likely to be approved.\n",
        "4. The positive correlation between `year` and target variable is interesting. During the longer years after 2008, people tend to hold a more positive attitude toward such new way of loan.\n",
        "5. It makes sense that `amount` is negatively related to the loan request outcome. The larger request amount suggests the higher risks.\n"
      ]
    },
    {
      "cell_type": "code",
      "metadata": {
        "id": "6MwTyiZ-0MsE",
        "colab_type": "code",
        "colab": {}
      },
      "source": [
        "# Remove the duplicate traget variable from the DataFrame\n",
        "lendingclub_cl = lendingclub_cl.drop('policy_code',axis=1,inplace=False)\n",
        "lendingclub = lendingclub_cl.copy()"
      ],
      "execution_count": 0,
      "outputs": []
    },
    {
      "cell_type": "markdown",
      "metadata": {
        "id": "iqzPH4Bk0MsJ",
        "colab_type": "text"
      },
      "source": [
        "## 3. Decision Tree\n",
        "To reach the goal of predicting whether a borrower will be approved for a loan, a machine learning model needs introducing in this project.\n",
        "\n",
        "\n",
        "### 3.1. Creating the Train/Test Split\n",
        "The target variable is `accept`, which is a binary variable. Therefore, the prediction models should be a classification model. Since Decision Tree can work better with fewer variables in general, Decision Tree will be applied to predict the outcomes of the loan request."
      ]
    },
    {
      "cell_type": "code",
      "metadata": {
        "id": "2aKDUT4b0MsK",
        "colab_type": "code",
        "colab": {}
      },
      "source": [
        "y=lendingclub['accept']\n",
        "X=lendingclub.drop('accept',axis=1,inplace=False)"
      ],
      "execution_count": 0,
      "outputs": []
    },
    {
      "cell_type": "markdown",
      "metadata": {
        "id": "oT4DkFj00MsN",
        "colab_type": "text"
      },
      "source": [
        "### 3.2. Variables Description\n",
        "#### 3.2.1. Target Variable Distribution"
      ]
    },
    {
      "cell_type": "code",
      "metadata": {
        "id": "IpzhsJcb0MsO",
        "colab_type": "code",
        "outputId": "af48fa7e-49ff-4015-a30c-3ced46abb9be",
        "colab": {
          "base_uri": "https://localhost:8080/",
          "height": 319
        }
      },
      "source": [
        "# Use bar chart to visualize the distribution\n",
        "sns.countplot('accept', data=lendingclub)\n",
        "plt.yscale(\"log\")\n",
        "for a, b in zip(y.value_counts().index,y.value_counts()):\n",
        "    plt.text(a, b+0.1, '%.0f' % b, ha='center', va= 'bottom',fontsize=10)\n",
        "plt.grid(False)\n",
        "plt.xticks(rotation=360)\n",
        "plt.title('Imbalanced Distribution of Loan Request Outcomes')"
      ],
      "execution_count": 0,
      "outputs": [
        {
          "output_type": "execute_result",
          "data": {
            "text/plain": [
              "Text(0.5, 1.0, 'Imbalanced Distribution of Loan Request Outcomes')"
            ]
          },
          "metadata": {
            "tags": []
          },
          "execution_count": 12
        },
        {
          "output_type": "display_data",
          "data": {
            "image/png": "[encoded data removed]",
            "text/plain": [
              "<Figure size 432x288 with 1 Axes>"
            ]
          },
          "metadata": {
            "tags": []
          }
        }
      ]
    },
    {
      "cell_type": "markdown",
      "metadata": {
        "id": "DW6qcDgq0MsR",
        "colab_type": "text"
      },
      "source": [
        "#### Some observations:\n",
        "The target variables is of significantly imbalanced distribution.Without fixing the issue of imbalanced distribution, the model can be biased. Therefore, resampling should be introduced.\n",
        "\n",
        "\n",
        "#### 3.2.2. Feature Variables Distribution\n",
        "There are seven feature variables in the prediction model. Through Data preprocessing, all feature variables have been converted into the numeric format."
      ]
    },
    {
      "cell_type": "code",
      "metadata": {
        "id": "YFiBVYnu0MsS",
        "colab_type": "code",
        "outputId": "51ba6835-eeed-4591-cac0-dae0e899b9f3",
        "colab": {
          "base_uri": "https://localhost:8080/",
          "height": 252
        }
      },
      "source": [
        "X.describe().transpose()"
      ],
      "execution_count": 0,
      "outputs": [
        {
          "output_type": "execute_result",
          "data": {
            "text/html": [
              "<div>\n",
              "<style scoped>\n",
              "    .dataframe tbody tr th:only-of-type {\n",
              "        vertical-align: middle;\n",
              "    }\n",
              "\n",
              "    .dataframe tbody tr th {\n",
              "        vertical-align: top;\n",
              "    }\n",
              "\n",
              "    .dataframe thead th {\n",
              "        text-align: right;\n",
              "    }\n",
              "</style>\n",
              "<table border=\"1\" class=\"dataframe\">\n",
              "  <thead>\n",
              "    <tr style=\"text-align: right;\">\n",
              "      <th></th>\n",
              "      <th>count</th>\n",
              "      <th>mean</th>\n",
              "      <th>std</th>\n",
              "      <th>min</th>\n",
              "      <th>25%</th>\n",
              "      <th>50%</th>\n",
              "      <th>75%</th>\n",
              "      <th>max</th>\n",
              "    </tr>\n",
              "  </thead>\n",
              "  <tbody>\n",
              "    <tr>\n",
              "      <th>amount</th>\n",
              "      <td>81103.0</td>\n",
              "      <td>12959.437855</td>\n",
              "      <td>10315.880464</td>\n",
              "      <td>500.0</td>\n",
              "      <td>5000.00</td>\n",
              "      <td>10000.00</td>\n",
              "      <td>20000.00</td>\n",
              "      <td>500000.0</td>\n",
              "    </tr>\n",
              "    <tr>\n",
              "      <th>fico</th>\n",
              "      <td>81103.0</td>\n",
              "      <td>603.010961</td>\n",
              "      <td>173.772811</td>\n",
              "      <td>0.0</td>\n",
              "      <td>585.00</td>\n",
              "      <td>653.00</td>\n",
              "      <td>691.00</td>\n",
              "      <td>850.0</td>\n",
              "    </tr>\n",
              "    <tr>\n",
              "      <th>dti</th>\n",
              "      <td>81103.0</td>\n",
              "      <td>514.269499</td>\n",
              "      <td>17004.663297</td>\n",
              "      <td>-1.0</td>\n",
              "      <td>6.53</td>\n",
              "      <td>16.48</td>\n",
              "      <td>28.88</td>\n",
              "      <td>3418800.0</td>\n",
              "    </tr>\n",
              "    <tr>\n",
              "      <th>year</th>\n",
              "      <td>81103.0</td>\n",
              "      <td>2011.097062</td>\n",
              "      <td>1.077031</td>\n",
              "      <td>2008.0</td>\n",
              "      <td>2011.00</td>\n",
              "      <td>2011.00</td>\n",
              "      <td>2012.00</td>\n",
              "      <td>2012.0</td>\n",
              "    </tr>\n",
              "    <tr>\n",
              "      <th>month</th>\n",
              "      <td>81103.0</td>\n",
              "      <td>7.191189</td>\n",
              "      <td>3.346244</td>\n",
              "      <td>1.0</td>\n",
              "      <td>4.00</td>\n",
              "      <td>7.00</td>\n",
              "      <td>10.00</td>\n",
              "      <td>12.0</td>\n",
              "    </tr>\n",
              "    <tr>\n",
              "      <th>title_length</th>\n",
              "      <td>81103.0</td>\n",
              "      <td>13.505123</td>\n",
              "      <td>8.979191</td>\n",
              "      <td>1.0</td>\n",
              "      <td>7.00</td>\n",
              "      <td>14.00</td>\n",
              "      <td>18.00</td>\n",
              "      <td>908.0</td>\n",
              "    </tr>\n",
              "    <tr>\n",
              "      <th>emp_years</th>\n",
              "      <td>81103.0</td>\n",
              "      <td>2.004846</td>\n",
              "      <td>2.996511</td>\n",
              "      <td>0.5</td>\n",
              "      <td>0.50</td>\n",
              "      <td>0.50</td>\n",
              "      <td>2.00</td>\n",
              "      <td>10.5</td>\n",
              "    </tr>\n",
              "  </tbody>\n",
              "</table>\n",
              "</div>"
            ],
            "text/plain": [
              "                count          mean  ...       75%        max\n",
              "amount        81103.0  12959.437855  ...  20000.00   500000.0\n",
              "fico          81103.0    603.010961  ...    691.00      850.0\n",
              "dti           81103.0    514.269499  ...     28.88  3418800.0\n",
              "year          81103.0   2011.097062  ...   2012.00     2012.0\n",
              "month         81103.0      7.191189  ...     10.00       12.0\n",
              "title_length  81103.0     13.505123  ...     18.00      908.0\n",
              "emp_years     81103.0      2.004846  ...      2.00       10.5\n",
              "\n",
              "[7 rows x 8 columns]"
            ]
          },
          "metadata": {
            "tags": []
          },
          "execution_count": 13
        }
      ]
    },
    {
      "cell_type": "markdown",
      "metadata": {
        "id": "wA9DwNy70MsY",
        "colab_type": "text"
      },
      "source": [
        "#### Some Observation:\n",
        "These six variables are all in the numeric format. As the following table indicates, they can be categorized into three types of information.\n",
        "\n",
        "\n",
        "| Groups |   Variables (Column name)  | Description |\n",
        "|-------|---------|---------|\n",
        "| **Content**     | `title_length`    | Word number of the request title |\n",
        "|   |   `amount`   | Amount requested for their first loan |\n",
        "| **Credit**     | `fico`    | FICO scores |\n",
        "|   |   `dti`   | A ratio of the borrower’s total monthly debt payments |\n",
        "|    |  `emp_years`    | The year of the work experience |\n",
        "| **Time**     | `year`   | The year of the loan request |\n",
        "|   |  `month`    | The month of the loan request |\n",
        "\n",
        "\n",
        "\n",
        "We can refer to the EDA section for more information of the feature variables, including the correlation between these feature variables and the outcome of the loan request.\n",
        "\n",
        "\n",
        "### 3.3 Resampling\n",
        "Introduce undersampling to fix the issue of imbalanced distribution."
      ]
    },
    {
      "cell_type": "code",
      "metadata": {
        "scrolled": true,
        "id": "iknxML_D0Msa",
        "colab_type": "code",
        "outputId": "b2fdbec0-d449-4cf9-fa59-c85fc2cb96e3",
        "colab": {
          "base_uri": "https://localhost:8080/",
          "height": 301
        }
      },
      "source": [
        "# Shuffle the Dataset.\n",
        "shuffled_df = lendingclub.sample(frac=1,random_state=123)\n",
        "\n",
        "# Put out all the accepted cases\n",
        "accept_df = shuffled_df.loc[shuffled_df['accept'] == True]\n",
        "\n",
        "#Randomly select 9245 observations from the rejected cases\n",
        "reject_df=shuffled_df.loc[shuffled_df['accept']== False].sample(n=9245,random_state=123)\n",
        "\n",
        "# Concatenate both dataframes \n",
        "normalized_df = pd.concat([accept_df, reject_df])\n",
        "\n",
        "# plot the distribution after the undersampling\n",
        "sns.countplot('accept', data=normalized_df)\n",
        "for a, b in zip(normalized_df.accept.unique(),normalized_df.accept.value_counts()):\n",
        "    plt.text(a, b+0.1, '%.0f' % b, ha='center', va= 'bottom',fontsize=10)\n",
        "plt.title('Balanced Distribution of Loan Request Outcomes after Resampling')\n",
        "plt.grid(False)"
      ],
      "execution_count": 0,
      "outputs": [
        {
          "output_type": "display_data",
          "data": {
            "image/png": "[encoded data removed]",
            "text/plain": [
              "<Figure size 432x288 with 1 Axes>"
            ]
          },
          "metadata": {
            "tags": []
          }
        }
      ]
    },
    {
      "cell_type": "code",
      "metadata": {
        "id": "kyz1oDpS0Msd",
        "colab_type": "code",
        "colab": {}
      },
      "source": [
        "# Retrieve the feature variables and target variables after resampling\n",
        "y=normalized_df['accept']\n",
        "X=normalized_df.drop('accept',axis=1,inplace=False)"
      ],
      "execution_count": 0,
      "outputs": []
    },
    {
      "cell_type": "code",
      "metadata": {
        "scrolled": true,
        "id": "QrRP3oox0Msh",
        "colab_type": "code",
        "outputId": "e522e1a0-7cb1-4226-e0f7-0d0ec9f9112e",
        "colab": {
          "base_uri": "https://localhost:8080/",
          "height": 252
        }
      },
      "source": [
        "# Re-explore the feature variables after resampling\n",
        "X.describe().transpose()"
      ],
      "execution_count": 0,
      "outputs": [
        {
          "output_type": "execute_result",
          "data": {
            "text/html": [
              "<div>\n",
              "<style scoped>\n",
              "    .dataframe tbody tr th:only-of-type {\n",
              "        vertical-align: middle;\n",
              "    }\n",
              "\n",
              "    .dataframe tbody tr th {\n",
              "        vertical-align: top;\n",
              "    }\n",
              "\n",
              "    .dataframe thead th {\n",
              "        text-align: right;\n",
              "    }\n",
              "</style>\n",
              "<table border=\"1\" class=\"dataframe\">\n",
              "  <thead>\n",
              "    <tr style=\"text-align: right;\">\n",
              "      <th></th>\n",
              "      <th>count</th>\n",
              "      <th>mean</th>\n",
              "      <th>std</th>\n",
              "      <th>min</th>\n",
              "      <th>25%</th>\n",
              "      <th>50%</th>\n",
              "      <th>75%</th>\n",
              "      <th>max</th>\n",
              "    </tr>\n",
              "  </thead>\n",
              "  <tbody>\n",
              "    <tr>\n",
              "      <th>amount</th>\n",
              "      <td>18490.0</td>\n",
              "      <td>12815.938813</td>\n",
              "      <td>9270.459246</td>\n",
              "      <td>500.0</td>\n",
              "      <td>5000.00</td>\n",
              "      <td>10000.00</td>\n",
              "      <td>19000.0000</td>\n",
              "      <td>50000.0</td>\n",
              "    </tr>\n",
              "    <tr>\n",
              "      <th>fico</th>\n",
              "      <td>18490.0</td>\n",
              "      <td>648.677772</td>\n",
              "      <td>141.616530</td>\n",
              "      <td>0.0</td>\n",
              "      <td>644.00</td>\n",
              "      <td>680.00</td>\n",
              "      <td>710.0000</td>\n",
              "      <td>844.0</td>\n",
              "    </tr>\n",
              "    <tr>\n",
              "      <th>dti</th>\n",
              "      <td>18490.0</td>\n",
              "      <td>216.049658</td>\n",
              "      <td>6092.416870</td>\n",
              "      <td>-1.0</td>\n",
              "      <td>8.17</td>\n",
              "      <td>15.55</td>\n",
              "      <td>23.5375</td>\n",
              "      <td>199998.0</td>\n",
              "    </tr>\n",
              "    <tr>\n",
              "      <th>year</th>\n",
              "      <td>18490.0</td>\n",
              "      <td>2011.157761</td>\n",
              "      <td>1.064444</td>\n",
              "      <td>2008.0</td>\n",
              "      <td>2011.00</td>\n",
              "      <td>2012.00</td>\n",
              "      <td>2012.0000</td>\n",
              "      <td>2012.0</td>\n",
              "    </tr>\n",
              "    <tr>\n",
              "      <th>month</th>\n",
              "      <td>18490.0</td>\n",
              "      <td>7.262520</td>\n",
              "      <td>3.351912</td>\n",
              "      <td>1.0</td>\n",
              "      <td>5.00</td>\n",
              "      <td>8.00</td>\n",
              "      <td>10.0000</td>\n",
              "      <td>12.0</td>\n",
              "    </tr>\n",
              "    <tr>\n",
              "      <th>title_length</th>\n",
              "      <td>18490.0</td>\n",
              "      <td>14.919362</td>\n",
              "      <td>7.639650</td>\n",
              "      <td>1.0</td>\n",
              "      <td>9.00</td>\n",
              "      <td>16.00</td>\n",
              "      <td>18.0000</td>\n",
              "      <td>144.0</td>\n",
              "    </tr>\n",
              "    <tr>\n",
              "      <th>emp_years</th>\n",
              "      <td>18490.0</td>\n",
              "      <td>3.548594</td>\n",
              "      <td>3.745198</td>\n",
              "      <td>0.5</td>\n",
              "      <td>0.50</td>\n",
              "      <td>2.00</td>\n",
              "      <td>6.0000</td>\n",
              "      <td>10.5</td>\n",
              "    </tr>\n",
              "  </tbody>\n",
              "</table>\n",
              "</div>"
            ],
            "text/plain": [
              "                count          mean  ...         75%       max\n",
              "amount        18490.0  12815.938813  ...  19000.0000   50000.0\n",
              "fico          18490.0    648.677772  ...    710.0000     844.0\n",
              "dti           18490.0    216.049658  ...     23.5375  199998.0\n",
              "year          18490.0   2011.157761  ...   2012.0000    2012.0\n",
              "month         18490.0      7.262520  ...     10.0000      12.0\n",
              "title_length  18490.0     14.919362  ...     18.0000     144.0\n",
              "emp_years     18490.0      3.548594  ...      6.0000      10.5\n",
              "\n",
              "[7 rows x 8 columns]"
            ]
          },
          "metadata": {
            "tags": []
          },
          "execution_count": 16
        }
      ]
    },
    {
      "cell_type": "markdown",
      "metadata": {
        "id": "jyHReKs60Msl",
        "colab_type": "text"
      },
      "source": [
        "#### Some observations:\n",
        "The size of the dataset has dropped significantly to fix the issue of imbalanced distribution, indicating a huge lose of information. However, there is no huge difference among the featured variables in the new dataset.\n",
        "\n",
        "\n",
        "### 3.4. Training and Prediction\n",
        "Set the hyperparameters of `criterion`, `random_state`, `min_samples_split`, and`max_depth` to construct the Decision Tree Model."
      ]
    },
    {
      "cell_type": "code",
      "metadata": {
        "id": "OZbm0TR40Msn",
        "colab_type": "code",
        "colab": {}
      },
      "source": [
        "# Creating the Train/Test Split\n",
        "X_train,X_test,y_train,y_test=train_test_split(X,y, test_size=0.2, random_state=111)\n",
        "\n",
        "# Initiate the Decision Tree Model\n",
        "dt = DecisionTreeClassifier(criterion=\"entropy\", random_state=123, min_samples_split=5,max_depth=20)\n",
        "\n",
        "# Train the model\n",
        "model = dt.fit(X_train, y_train)\n",
        "\n",
        "# Get Prediction\n",
        "y_pred = model.predict(X_test)"
      ],
      "execution_count": 0,
      "outputs": []
    },
    {
      "cell_type": "markdown",
      "metadata": {
        "id": "nbFtZGtW0Msq",
        "colab_type": "text"
      },
      "source": [
        "### 3.5. Evaluation for Model Quality\n",
        "The four metrics of accuracy, kappa, precision, and recall need applying for evaluation."
      ]
    },
    {
      "cell_type": "code",
      "metadata": {
        "id": "JlkkAHGB0Mss",
        "colab_type": "code",
        "colab": {}
      },
      "source": [
        "# Define a function that takes in the predictions of a classifier, the true labels,\n",
        "# and a set of metrics and displays the model's performance on the metrics\n",
        "def common_evaluations(y_pred, y_actual, metrics):\n",
        "    # Compute Metrics\n",
        "    conf_matrix = confusion_matrix(y_actual, y_pred)\n",
        "    model_results = {}\n",
        "    for (metric_name, metric) in metrics.items():\n",
        "        result = metric(y_actual, y_pred)\n",
        "        model_results[metric_name] = result\n",
        "\n",
        "    # Display Metrics\n",
        "    ConfusionMatrixDisplay(conf_matrix, [\"Reject\", \"Accept\"]).plot(values_format='.4g')\n",
        "    plt.title(f'Confusion Metrics for Decision Tree')\n",
        "    plt.grid(False)\n",
        "    plt.savefig(f'evaluation_for_Decision_Tree.png')\n",
        "    print(model_results)\n",
        "    \n",
        "    return model_results"
      ],
      "execution_count": 0,
      "outputs": []
    },
    {
      "cell_type": "code",
      "metadata": {
        "id": "SnIb3arp0Msw",
        "colab_type": "code",
        "outputId": "7e6cfe1e-9120-45b0-a89a-a506622c6b16",
        "colab": {
          "base_uri": "https://localhost:8080/",
          "height": 319
        }
      },
      "source": [
        "# generate a quality evaluation metrix\n",
        "metrics = {\n",
        "    \"Accuracy\" : lambda y_test,y_pred: 100*accuracy_score(y_test,y_pred),\n",
        "    \"Kappa\"    : cohen_kappa_score,\n",
        "    \"Precision\": precision_score,\n",
        "    \"Recall\"   : recall_score\n",
        "}\n",
        "\n",
        "model_results = common_evaluations(y_pred, y_test, metrics)"
      ],
      "execution_count": 0,
      "outputs": [
        {
          "output_type": "stream",
          "text": [
            "{'Accuracy': 91.67117360735533, 'Kappa': 0.8334273699494075, 'Precision': 0.9104155423637345, 'Recall': 0.9223619464188081}\n"
          ],
          "name": "stdout"
        },
        {
          "output_type": "display_data",
          "data": {
            "image/png": "[encoded data removed]",
            "text/plain": [
              "<Figure size 432x288 with 2 Axes>"
            ]
          },
          "metadata": {
            "tags": []
          }
        }
      ]
    },
    {
      "cell_type": "markdown",
      "metadata": {
        "colab_type": "text",
        "id": "um1iqowwlH_G"
      },
      "source": [
        "#### Some observations:\n",
        "According to the Confusion metrics and four quality metrics, the decision tree model is of good quality. More specific, 91.67% of the prediction outcomes are right. The Kappa is 0.83, larger than 0.8, indicating that the prediciton can be almost perfect. Among the prediction outcomes of accept, 91.04% are right. Then, among the actual outcomes of accept, 92.23% are predicted as accept as well.\n",
        "\n",
        "\n"
      ]
    },
    {
      "cell_type": "markdown",
      "metadata": {
        "colab_type": "text",
        "id": "_xOhCWobzfhb"
      },
      "source": [
        "# Question 3: \n",
        "\n",
        "Is the decision tree that you trained accurate enough to be used for each of the two business purposes you proposed in question 1? Why or why not?"
      ]
    },
    {
      "cell_type": "markdown",
      "metadata": {
        "colab_type": "text",
        "id": "gnC28G-UznQN"
      },
      "source": [
        "The accuracy of the model is 91.67%, indicatin that the quality of this model can meet the requirement of the application in the two scenarios I have proposed in the Question 1.\n",
        "\n",
        "1. Send more push notifications and in-app messages to the existing customers who are predicted to be accepted users to remind them of the needs to purchase or directly request the loan.\n",
        "2. Categorize the features of the borrowers who are more 'welcomed' by the invester members on the website, and attract these potential users with specific targeting market strategy like advertisements, discounts on fees, etc.\n",
        "\n",
        "These two scenarios are two marketing strategies targeting on different markets; one is the existing market, and the other is the new customers. Therefore, if I can apply the prediction model on the existing clients, under the situation that the outcomes is `accept`, I can can make recommendation to LendingClub to stimulate their shopping desires and will thus request the loan on LendingClub. To be more specific, if I was predicted as the accepted user, I will receive the message and notification from LendingClub that reminds me of my needs for a loan. Then, I will request another loan on the platform. Even though my purchase desires haven't been stimulated by the mobile marketing strategy, LendingClub doesn't suffer losses at all. The variable costs of the message or mobile notification are closely 0. \n",
        "\n",
        "In the second scenario, I have never used LendingClub before. However, through the third party data company, LendingClub is capable of getting my data and apply the decision tree model on me. It can categorize me into the group whether I am the potential users based on the prediction outcomes. Even though I am categorized as a potential user but I am not in reality, the marketing strategy targeting on me won't cost LendingClub too much, which is in the same case of the first scenario.\n",
        "\n",
        "In conclusion, in these two individual customers recruiting scenarios, there is no need to guarantee the accuracy at a very high level, since the wrong prediction won't have significant negative influences on LendingClub, even the increase in the operation cost. However, it would be a completely different story than in the healthcare industry or in the business decision related to a large amount of investment. \n",
        "\n",
        " "
      ]
    }
  ]
}